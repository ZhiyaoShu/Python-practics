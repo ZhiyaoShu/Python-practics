{
 "cells": [
  {
   "cell_type": "code",
   "execution_count": 2,
   "metadata": {},
   "outputs": [],
   "source": [
    "import seaborn as sns\n",
    "import matplotlib.pyplot as plt\n",
    "import pandas as pd"
   ]
  },
  {
   "cell_type": "code",
   "execution_count": 3,
   "metadata": {},
   "outputs": [
    {
     "name": "stdout",
     "output_type": "stream",
     "text": [
      "[2, 2, 2, 2]\n"
     ]
    }
   ],
   "source": [
    "repeated_list=[2]*4\n",
    "print(repeated_list)"
   ]
  },
  {
   "attachments": {},
   "cell_type": "markdown",
   "metadata": {},
   "source": [
    "* operator use as multiplication in values (integer, floats)\n",
    "           use to replicates the elements of the sequence "
   ]
  },
  {
   "cell_type": "code",
   "execution_count": 21,
   "metadata": {},
   "outputs": [
    {
     "name": "stdout",
     "output_type": "stream",
     "text": [
      "9^1= 9\n",
      "9^2= 81\n",
      "9^3= 729\n",
      "9^4= 6561\n",
      "9^5= 59049\n",
      "9^6= 531441\n",
      "9^7= 4782969\n",
      "9^8= 43046721\n",
      "9^9= 387420489\n",
      "9^10= 3486784401\n"
     ]
    }
   ],
   "source": [
    "n=9\n",
    "for i in range(1,11):\n",
    "    print(\"{}^{}=\".format(n,i),n**i)"
   ]
  },
  {
   "attachments": {},
   "cell_type": "markdown",
   "metadata": {},
   "source": [
    "** operator raises the number on the left to the power of the exponent of the right"
   ]
  },
  {
   "cell_type": "code",
   "execution_count": 17,
   "metadata": {},
   "outputs": [
    {
     "ename": "ValueError",
     "evalue": "list.remove(x): x not in list",
     "output_type": "error",
     "traceback": [
      "\u001b[1;31m---------------------------------------------------------------------------\u001b[0m",
      "\u001b[1;31mValueError\u001b[0m                                Traceback (most recent call last)",
      "Cell \u001b[1;32mIn[17], line 5\u001b[0m\n\u001b[0;32m      1\u001b[0m color\u001b[39m=\u001b[39m[\u001b[39m'\u001b[39m\u001b[39mwhite\u001b[39m\u001b[39m'\u001b[39m,\u001b[39m'\u001b[39m\u001b[39mred\u001b[39m\u001b[39m'\u001b[39m,\u001b[39m'\u001b[39m\u001b[39mblue\u001b[39m\u001b[39m'\u001b[39m,\u001b[39m'\u001b[39m\u001b[39mgreen\u001b[39m\u001b[39m'\u001b[39m,\u001b[39m'\u001b[39m\u001b[39mblue\u001b[39m\u001b[39m'\u001b[39m,\u001b[39m'\u001b[39m\u001b[39myellow\u001b[39m\u001b[39m'\u001b[39m,\u001b[39m'\u001b[39m\u001b[39mblack\u001b[39m\u001b[39m'\u001b[39m]\n\u001b[0;32m      2\u001b[0m \u001b[39m# color.pop('yellow')\u001b[39;00m\n\u001b[0;32m      3\u001b[0m \u001b[39m# color.pop('5') str cannot be interpreted as an integer\u001b[39;00m\n\u001b[0;32m      4\u001b[0m \u001b[39m# color.pop(5)\u001b[39;00m\n\u001b[1;32m----> 5\u001b[0m color\u001b[39m.\u001b[39;49mremove(\u001b[39m5\u001b[39;49m)\n",
      "\u001b[1;31mValueError\u001b[0m: list.remove(x): x not in list"
     ]
    }
   ],
   "source": [
    "color=['white','red','blue','green','blue','yellow','black']\n",
    "# color.pop('yellow')\n",
    "# color.pop('5') str cannot be interpreted as an integer\n",
    "# color.pop(5)\n",
    "color.remove(5)"
   ]
  },
  {
   "cell_type": "code",
   "execution_count": 18,
   "metadata": {},
   "outputs": [],
   "source": [
    "car={\"brand\":\"Audi\",\"model\":\"Q2\",\"year\":1980}\n",
    "car[\"year\"]=2019"
   ]
  },
  {
   "attachments": {},
   "cell_type": "markdown",
   "metadata": {},
   "source": [
    "1. Braces{} used to define sets(unordered collection of unique elements) and dictionaries\n",
    "2. Parentheses() are used for several purpose or sequences (group, function,tuples<immutabel sequences of elements>)\n",
    "3. Brackets[] used for lists and accessing elements from sequences"
   ]
  },
  {
   "cell_type": "code",
   "execution_count": 20,
   "metadata": {},
   "outputs": [
    {
     "ename": "SyntaxError",
     "evalue": "unterminated string literal (detected at line 3) (3643490889.py, line 3)",
     "output_type": "error",
     "traceback": [
      "\u001b[1;36m  Cell \u001b[1;32mIn[20], line 3\u001b[1;36m\u001b[0m\n\u001b[1;33m    print(\"Number is Positive)\u001b[0m\n\u001b[1;37m          ^\u001b[0m\n\u001b[1;31mSyntaxError\u001b[0m\u001b[1;31m:\u001b[0m unterminated string literal (detected at line 3)\n"
     ]
    }
   ],
   "source": [
    "a=-99\n",
    "if a>0:\n",
    "    print(\"Number is Positive)\n",
    "else:\n",
    "    print(\"Number is negative\")"
   ]
  },
  {
   "cell_type": "code",
   "execution_count": 23,
   "metadata": {},
   "outputs": [
    {
     "ename": "NameError",
     "evalue": "name 'TRUE' is not defined",
     "output_type": "error",
     "traceback": [
      "\u001b[1;31m---------------------------------------------------------------------------\u001b[0m",
      "\u001b[1;31mNameError\u001b[0m                                 Traceback (most recent call last)",
      "Cell \u001b[1;32mIn[23], line 1\u001b[0m\n\u001b[1;32m----> 1\u001b[0m a\u001b[39m=\u001b[39mb\u001b[39m=\u001b[39mTRUE\n\u001b[0;32m      2\u001b[0m \u001b[39mif\u001b[39;00m (a\u001b[39m==\u001b[39mb):\n\u001b[0;32m      3\u001b[0m     \u001b[39mprint\u001b[39m(\u001b[39m\"\u001b[39m\u001b[39mHello\u001b[39m\u001b[39m\"\u001b[39m)\n",
      "\u001b[1;31mNameError\u001b[0m: name 'TRUE' is not defined"
     ]
    }
   ],
   "source": [
    "a=b=TRUE \n",
    "# if types \"True\" it will work \n",
    "if (a==b):\n",
    "    print(\"Hello\")\n",
    "else:\n",
    "    print(\"Well done\")"
   ]
  },
  {
   "cell_type": "code",
   "execution_count": 24,
   "metadata": {},
   "outputs": [
    {
     "name": "stdout",
     "output_type": "stream",
     "text": [
      "range(0, 5)\n"
     ]
    }
   ],
   "source": [
    "print(range(5))\n",
    "# generate a sequence of numbers equidistant"
   ]
  },
  {
   "cell_type": "code",
   "execution_count": 25,
   "metadata": {},
   "outputs": [
    {
     "name": "stdout",
     "output_type": "stream",
     "text": [
      "1\n",
      "2\n",
      "3\n",
      "4\n",
      "5\n"
     ]
    }
   ],
   "source": [
    "x=[1,2,3,4,5]\n",
    "while x:\n",
    "    print(x.pop(0))"
   ]
  },
  {
   "attachments": {},
   "cell_type": "markdown",
   "metadata": {},
   "source": [
    "pop() function for list: removes and returns the last element\n",
    "               for dictionary: remove and return the specified key and associated values "
   ]
  },
  {
   "cell_type": "code",
   "execution_count": 26,
   "metadata": {},
   "outputs": [],
   "source": [
    "import numpy as np"
   ]
  },
  {
   "cell_type": "code",
   "execution_count": 27,
   "metadata": {},
   "outputs": [
    {
     "name": "stdout",
     "output_type": "stream",
     "text": [
      "['Cricket' 'Football' 'Tennis' 'Golf' 'Baseball']\n"
     ]
    }
   ],
   "source": [
    "sports=['Cricket','Football','Tennis','Golf','Baseball']\n",
    "sports_new=np.array(sports)\n",
    "print(sports_new)"
   ]
  },
  {
   "cell_type": "code",
   "execution_count": 28,
   "metadata": {},
   "outputs": [
    {
     "name": "stdout",
     "output_type": "stream",
     "text": [
      "[4 2 2 2 2 6 1]\n"
     ]
    }
   ],
   "source": [
    "import numpy as np\n",
    "vec1=np.array([4,7,8,9,10,6,1])\n",
    "vec1[vec1>6]=2 #boolean index\n",
    "print(vec1)"
   ]
  },
  {
   "cell_type": "code",
   "execution_count": 30,
   "metadata": {},
   "outputs": [
    {
     "name": "stdout",
     "output_type": "stream",
     "text": [
      "5\n"
     ]
    }
   ],
   "source": [
    "matrix=np.array([[1,2,3],[4,5,6],[7,8,9]])\n",
    "print(matrix[1][1]) #call out the oneth element in the oneth row"
   ]
  },
  {
   "cell_type": "code",
   "execution_count": 46,
   "metadata": {},
   "outputs": [],
   "source": [
    "array1=np.array([[1,2,3],[4,5,6],[7,8,9]])\n",
    "array2=array1 #create reference to the array1. Then change array2 will also affect array1\n",
    "array2=np.copy(array1) #or array2=array1.copy()\n",
    "#Now modifying array2 won't affect array1"
   ]
  },
  {
   "cell_type": "code",
   "execution_count": 62,
   "metadata": {},
   "outputs": [
    {
     "data": {
      "text/html": [
       "<div>\n",
       "<style scoped>\n",
       "    .dataframe tbody tr th:only-of-type {\n",
       "        vertical-align: middle;\n",
       "    }\n",
       "\n",
       "    .dataframe tbody tr th {\n",
       "        vertical-align: top;\n",
       "    }\n",
       "\n",
       "    .dataframe thead th {\n",
       "        text-align: right;\n",
       "    }\n",
       "</style>\n",
       "<table border=\"1\" class=\"dataframe\">\n",
       "  <thead>\n",
       "    <tr style=\"text-align: right;\">\n",
       "      <th></th>\n",
       "      <th>day</th>\n",
       "      <th>calories</th>\n",
       "      <th>duration_min</th>\n",
       "    </tr>\n",
       "  </thead>\n",
       "  <tbody>\n",
       "    <tr>\n",
       "      <th>0</th>\n",
       "      <td>day1</td>\n",
       "      <td>450</td>\n",
       "      <td>30</td>\n",
       "    </tr>\n",
       "    <tr>\n",
       "      <th>1</th>\n",
       "      <td>day2</td>\n",
       "      <td>300</td>\n",
       "      <td>25</td>\n",
       "    </tr>\n",
       "  </tbody>\n",
       "</table>\n",
       "</div>"
      ],
      "text/plain": [
       "    day  calories  duration_min\n",
       "0  day1       450            30\n",
       "1  day2       300            25"
      ]
     },
     "execution_count": 62,
     "metadata": {},
     "output_type": "execute_result"
    }
   ],
   "source": [
    "calorie_data=pd.DataFrame({'day':['day1','day2','day3','day4','day5'],'calories':[450,300,345,520,600],'duration_min':[30,25,29,39,48]})\n",
    "# calorie_data[2:]\n",
    "# calorie_data[:-2]\n",
    "calorie_data[:2]"
   ]
  },
  {
   "cell_type": "code",
   "execution_count": 59,
   "metadata": {},
   "outputs": [
    {
     "data": {
      "text/plain": [
       "day1    420\n",
       "day2    380\n",
       "day3    390\n",
       "dtype: int64"
      ]
     },
     "execution_count": 59,
     "metadata": {},
     "output_type": "execute_result"
    }
   ],
   "source": [
    "days=pd.Series([420,380,390],index=['day1','day2','day3'])\n",
    "days[:2]\n",
    "days[:'day3']"
   ]
  },
  {
   "cell_type": "code",
   "execution_count": null,
   "metadata": {},
   "outputs": [],
   "source": [
    "calorie_data.loc[[1,2],['calories']]\n",
    "calorie_data.iloc[[1,2],[1]]\n",
    "calorie_data=pd.DataFrame({'day':['day1','day2','day3','day4','day5'],'calories':[450,300,345,520,600],'duration_min':[30,25,29,39,48]})"
   ]
  }
 ],
 "metadata": {
  "kernelspec": {
   "display_name": "base",
   "language": "python",
   "name": "python3"
  },
  "language_info": {
   "codemirror_mode": {
    "name": "ipython",
    "version": 3
   },
   "file_extension": ".py",
   "mimetype": "text/x-python",
   "name": "python",
   "nbconvert_exporter": "python",
   "pygments_lexer": "ipython3",
   "version": "3.10.9"
  },
  "orig_nbformat": 4,
  "vscode": {
   "interpreter": {
    "hash": "3c06e3e46abf38078fe4dac36a0085ec2b134ebbd73dd076183d243eeca6918f"
   }
  }
 },
 "nbformat": 4,
 "nbformat_minor": 2
}
